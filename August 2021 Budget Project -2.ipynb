{
 "cells": [
  {
   "cell_type": "code",
   "execution_count": 2,
   "metadata": {},
   "outputs": [],
   "source": [
    "from math import pi\n",
    "import pandas as pd\n",
    "from bokeh.palettes import Category20c, Category20\n",
    "from bokeh.transform import cumsum\n",
    "from bokeh.io import output_file, show\n",
    "from bokeh.models import ColumnDataSource,ranges,LabelSet\n",
    "from bokeh.plotting import figure\n",
    "from bokeh.layouts import gridplot\n",
    "from bokeh.io import curdoc\n",
    "from bokeh.io import export_png\n",
    "from bokeh.io import output_notebook\n",
    "import numpy as np\n",
    "\n",
    "# output_file(\"colormapped_bars.html\")\n",
    "curdoc().theme = 'dark_minimal'\n",
    "categories = [\"Food\",\"Transportation\",\"Investing\",\"Amazon\",\"Other\",\"Subscription\",\"Zelle\"]\n",
    "colors = ['#aec7e8','#ff7f0e','#ffbb78','#2ca02c','#98df8a','#d62728','#ff9896','#9467bd','#c5b0d5','#8c564b','#c49c94',\n",
    "'#e377c2','#f7b6d2','#7f7f7f','#c7c7c7','#bcbd22','#dbdb8d']\n",
    "\n",
    "\n",
    "def csv_to_df():\n",
    "    df = pd.read_csv(\"/Users/benjaminadame/Desktop/test.csv\")\n",
    "    return df\n",
    "\n",
    "def monthly_expenses():\n",
    "    #Reading the csv file and creating a new dataframe\n",
    "    df = csv_to_df()\n",
    "    data = [df['Description'],df['Debit']]\n",
    "    headers = ['Description','Debit']\n",
    "    df2 = pd.concat(data,axis = 1,keys = headers)\n",
    "    df2 = df2.dropna()\n",
    "    g1 = df2.groupby(['Description']).sum()\n",
    "    g1 = g1.groupby( [ \"Description\", \"Debit\"] ).count().reset_index()\n",
    "    print(\"Monthly Expenses: \")\n",
    "    print(g1)\n",
    "\n",
    "    #Plot the chart\n",
    "    x = dict(g1.values)\n",
    "    data = pd.Series(x).reset_index(name='value').rename(columns={'index':'country'})\n",
    "    data['angle'] = data['value']/data['value'].sum() * 2*pi\n",
    "    data['color'] = Category20c[len(x)]\n",
    "    p = figure(plot_height=350, title=\"August 2021 Expenses\", toolbar_location=None,\n",
    "           tools=\"hover\", tooltips=\"@country: @value\", x_range=(-0.5, 1.0))\n",
    "    p.wedge(x=0, y=1, radius=0.4,\n",
    "        start_angle=cumsum('angle', include_zero=True), end_angle=cumsum('angle'),\n",
    "        line_color=\"white\", fill_color='color', legend_field='country', source=data)\n",
    "    p.axis.axis_label=None\n",
    "    p.axis.visible=False\n",
    "    p.grid.grid_line_color = None\n",
    "    show(p)\n",
    "\n",
    "def daily_expenses():\n",
    "\n",
    "    df = csv_to_df()\n",
    "    data = [df['Date'],df['Description'], df['Debit']]\n",
    "    headers = ['Date','Description', 'Debit']\n",
    "    df2 = pd.concat(data, axis=1, keys=headers)\n",
    "\n",
    "    #Group by date\n",
    "    df2 = df2.groupby(['Date']).sum()\n",
    "    df2 = df2.groupby([\"Date\", \"Debit\"]).count().reset_index()\n",
    "\n",
    "\n",
    "    #Create List\n",
    "    dates = df2['Date'].tolist()\n",
    "    debits = df2[\"Debit\"].tolist()\n",
    "\n",
    "    #Visualize the data\n",
    "    source = ColumnDataSource(data=dict(dates=dates, debits=debits))\n",
    "    p = figure(x_range=dates, plot_height=400, title=\"August Daily Expenses\",\n",
    "               toolbar_location=None, tools=\"\")\n",
    "\n",
    "\n",
    "    p.vbar(x=dates, top=debits, width=0.9)\n",
    "\n",
    "\n",
    "    p.xgrid.grid_line_color = None\n",
    "    p.y_range.start = 0\n",
    "    p.xaxis.major_label_orientation = pi/3\n",
    "    p.xaxis.subgroup_label_orientation = \"normal\"\n",
    "    p.xaxis.group_label_orientation = 0.8\n",
    "    show(p)\n",
    "\n",
    "def multicategorical_chart(categories):\n",
    "    dates = []\n",
    "    amount = [0,0,0,0,0,0,0]\n",
    "\n",
    "    #Set up data\n",
    "    df = csv_to_df()\n",
    "    df2 = df[['Date', 'Description', 'Debit']].copy().dropna().reset_index().drop([\"index\"],axis = 1)\n",
    "    cols = ['Date','Description']\n",
    "    grouped_df = df2.groupby(cols)[['Debit']].sum().reset_index()\n",
    "    my_dict ={}\n",
    "    g = grouped_df.groupby('Date')\n",
    "\n",
    "    #Create Dictionary\n",
    "    for date, date_df in g:\n",
    "        date_df = date_df[['Description','Debit']].copy()\n",
    "        dates.append(date)\n",
    "        desc = date_df['Description'].to_list()\n",
    "        deb  = date_df['Debit'].to_list()\n",
    "        for i in range(len(desc)):\n",
    "            for j in range(len(categories)):\n",
    "                if desc[i] == categories[j]:\n",
    "                    amount[j]=deb[i]\n",
    "        my_dict[date] = amount\n",
    "        amount = [0,0,0,0,0,0,0]\n",
    "\n",
    "    my_dict['Categories'] = categories\n",
    "\n",
    "    p = figure(y_range=categories, plot_height=600,plot_width = 900, x_range=(0, 300), title=\"Daily Expenditure for August\",\n",
    "               toolbar_location=None)\n",
    "\n",
    "    p.hbar_stack(dates, y='Categories', height=0.7, color=colors, source=ColumnDataSource(my_dict),\n",
    "                 legend_label=[\"%s \" % x for x in dates])\n",
    "\n",
    "\n",
    "\n",
    "    p.y_range.range_padding = .5\n",
    "    p.ygrid.grid_line_color = None\n",
    "    p.legend.location = \"top_right\"\n",
    "    p.axis.minor_tick_line_color = None\n",
    "    p.outline_line_color = None\n",
    "    p.legend.click_policy = \"hide\"\n",
    "    p.legend.label_text_font_size = \"8px\"\n",
    "    show(p)\n",
    "\n",
    "def accrued_debits_credits():\n",
    "\n",
    "    #Set up data\n",
    "    #Credits\n",
    "    color = ['#aec7e8','#ff7f0e']\n",
    "    df = csv_to_df()\n",
    "    df2 = [df['Date'],df['Credit']]\n",
    "    headers = ['Date', 'Amount']\n",
    "    df2 = pd.concat(df2, axis=1, keys=headers)\n",
    "    df2 = df2.dropna()\n",
    "    df2 = df2.groupby(['Date']).sum()\n",
    "    df2 = df2.groupby([\"Date\", \"Amount\"]).count().reset_index()\n",
    "\n",
    "    #Debits\n",
    "    df3 = [df['Date'], df['Debit']]\n",
    "    headers = ['Date', 'Amount']\n",
    "    df3 = pd.concat(df3, axis=1, keys=headers)\n",
    "    df3 = df3.dropna()\n",
    "    df3 = df3.groupby(['Date']).sum()\n",
    "    df3 = df3.groupby([\"Date\", \"Amount\"]).count().reset_index()\n",
    "\n",
    "    #Get cumulative sum for both df2 & df3\n",
    "    df2_cum_sum = df2[\"Amount\"].to_list()\n",
    "    df3_cum_sum = df3[\"Amount\"].to_list()\n",
    "    df2_cum_sum = np.cumsum(df2_cum_sum)\n",
    "    df3_cum_sum = np.cumsum(df3_cum_sum)\n",
    "\n",
    "    #Create new dataframe\n",
    "    new_dataframe1 = {'Date':df2[\"Date\"].to_list(),\n",
    "                      'Amount': list(df2_cum_sum)}\n",
    "    new_dataframe2 = {'Date': df3['Date'].to_list(),\n",
    "                      'Amount': list(df3_cum_sum)}\n",
    "    df_01 = pd.DataFrame(new_dataframe1)\n",
    "    df_02 = pd.DataFrame(new_dataframe2)\n",
    "\n",
    "    #Plot the chart\n",
    "    p = figure(plot_width=800, plot_height=250, x_axis_type=\"datetime\")\n",
    "    p.title.text = 'Monthly Debit and Credit'\n",
    "    for data, name, color in zip([df_01, df_02], ['Credit','Debit'], colors):\n",
    "        df = pd.DataFrame(data)\n",
    "        df['Date'] = pd.to_datetime(df['Date'])\n",
    "        p.line(df['Date'], df['Amount'], line_width=2, color=color, alpha=0.8, legend_label=name)\n",
    "    p.legend.location = \"top_left\"\n",
    "    p.legend.click_policy = \"hide\"\n",
    "\n",
    "    show(p)\n",
    "\n",
    "def totals_chart():\n",
    "    # Set up data\n",
    "    # Credits\n",
    "    color = ['#aec7e8', '#ff7f0e']\n",
    "    df = csv_to_df()\n",
    "    df2 = [df['Date'], df['Credit']]\n",
    "    headers = ['Date', 'Amount']\n",
    "    df2 = pd.concat(df2, axis=1, keys=headers)\n",
    "    df2 = df2.dropna()\n",
    "    df2 = df2.groupby(['Date']).sum()\n",
    "    df2 = df2.groupby([\"Date\", \"Amount\"]).count().reset_index()\n",
    "\n",
    "\n",
    "    # Debits\n",
    "    df3 = [df['Date'], df['Debit']]\n",
    "    headers = ['Date', 'Amount']\n",
    "    df3 = pd.concat(df3, axis=1, keys=headers)\n",
    "    df3 = df3.dropna()\n",
    "    df3 = df3.groupby(['Date']).sum()\n",
    "    df3 = df3.groupby([\"Date\", \"Amount\"]).count().reset_index()\n",
    "\n",
    "    #Get totals\n",
    "    credit = df2['Amount'].to_list()\n",
    "    debit = df3['Amount'].to_list()\n",
    "    credit_sum = sum(credit)\n",
    "    debit_sum = sum(debit)\n",
    "    \n",
    "\n",
    "    if (credit_sum-debit_sum)<0:\n",
    "        new_df ={'Amount': [credit_sum,debit_sum,int(abs(credit_sum-debit_sum))],\n",
    "              'Type':[\"Credit\",'Debit',\"Overhead\"]}\n",
    "        df_01 = pd.DataFrame(new_df, index=[0, 1, 2])\n",
    "        df_01['angle'] = df_01['Amount'] / df_01['Amount'].sum() * 2 * pi\n",
    "        df_01['color'] = Category20[3]\n",
    "        source = ColumnDataSource(df_01)\n",
    "        p = figure(plot_height=350, title=\"Total Credits, Debits and Savings\", toolbar_location=None,\n",
    "                   tools=\"hover\", tooltips=\"@Type: @Amount{0.2f} \", x_range=(-.5, .5))\n",
    "\n",
    "        p.annular_wedge(x=0, y=1, inner_radius=0.15, outer_radius=0.25, direction=\"anticlock\",\n",
    "                        start_angle=cumsum('angle', include_zero=True), end_angle=cumsum('angle'),\n",
    "                        line_color=\"white\", fill_color='color', legend_field='Type', source=source)\n",
    "        p.axis.axis_label = None\n",
    "        p.axis.visible = False\n",
    "        p.grid.grid_line_color = None\n",
    "    else:\n",
    "        new_df = {'Amount': [credit_sum,debit_sum,int(abs(credit_sum-debit_sum))],\n",
    "              'Type':[\"Credit\",'Debit',\"Savings\"]}\n",
    "        df_01 = pd.DataFrame(new_df,index=[0,1,2])\n",
    "        df_01['angle'] = df_01['Amount'] / df_01['Amount'].sum() * 2 * pi\n",
    "        df_01['color'] = Category20[3]\n",
    "        source = ColumnDataSource(df_01)\n",
    "        p = figure(plot_height=350, title=\"Total Credits, Debits and Savings\", toolbar_location=None,\n",
    "               tools=\"hover\", tooltips=\"@Type: @Amount{0.2f} \", x_range=(-.5, .5))\n",
    "\n",
    "        p.annular_wedge(x=0, y=1, inner_radius=0.15, outer_radius=0.25, direction=\"anticlock\",\n",
    "                    start_angle=cumsum('angle', include_zero=True), end_angle=cumsum('angle'),\n",
    "                    line_color=\"white\", fill_color='color', legend_field='Type', source=source)\n",
    "\n",
    "\n",
    "        p.axis.axis_label = None\n",
    "        p.axis.visible = False\n",
    "        p.grid.grid_line_color = None\n",
    "\n",
    "    show(p)\n",
    "\n",
    "# make a grid\n",
    "#grid = gridplot([[monthly_expenses(), daily_expenses()], [totals_chart(),accrued_debits_credits()]], plot_width=700, plot_height=500)\n"
   ]
  },
  {
   "cell_type": "code",
   "execution_count": null,
   "metadata": {},
   "outputs": [],
   "source": []
  },
  {
   "cell_type": "code",
   "execution_count": 5,
   "metadata": {},
   "outputs": [
    {
     "name": "stdout",
     "output_type": "stream",
     "text": [
      "Monthly Expenses: \n",
      "      Description   Debit\n",
      "0             Atm   40.00\n",
      "1         Clothes  163.31\n",
      "2         Fitness  150.31\n",
      "3            Food   47.68\n",
      "4    Subscription   15.13\n",
      "5  Transportation  261.75\n",
      "6           Zelle   25.00\n"
     ]
    },
    {
     "data": {
      "text/html": [
       "\n",
       "\n",
       "\n",
       "\n",
       "\n",
       "\n",
       "  <div class=\"bk-root\" id=\"fdb9bd63-fafa-45e9-8176-b312e50b05e7\" data-root-id=\"1083\"></div>\n"
      ]
     },
     "metadata": {},
     "output_type": "display_data"
    },
    {
     "data": {
      "application/javascript": [
       "(function(root) {\n",
       "  function embed_document(root) {\n",
       "    \n",
       "  var docs_json = {\"872f7bf2-4f44-4574-9b0d-8e970174fbb7\":{\"roots\":{\"references\":[{\"attributes\":{\"background_fill_color\":\"#20262B\",\"below\":[{\"id\":\"1094\"}],\"border_fill_color\":\"#15191C\",\"center\":[{\"id\":\"1097\"},{\"id\":\"1101\"},{\"id\":\"1120\"}],\"left\":[{\"id\":\"1098\"}],\"outline_line_alpha\":0.25,\"outline_line_color\":\"#E0E0E0\",\"plot_height\":350,\"renderers\":[{\"id\":\"1111\"}],\"title\":{\"id\":\"1084\"},\"toolbar\":{\"id\":\"1103\"},\"toolbar_location\":null,\"x_range\":{\"id\":\"1086\"},\"x_scale\":{\"id\":\"1090\"},\"y_range\":{\"id\":\"1088\"},\"y_scale\":{\"id\":\"1092\"}},\"id\":\"1083\",\"subtype\":\"Figure\",\"type\":\"Plot\"},{\"attributes\":{\"end_angle\":{\"expr\":{\"id\":\"1106\"},\"units\":\"rad\"},\"fill_color\":{\"field\":\"color\"},\"line_color\":{\"value\":\"white\"},\"radius\":{\"units\":\"data\",\"value\":0.4},\"start_angle\":{\"expr\":{\"id\":\"1105\"},\"units\":\"rad\"},\"x\":{\"value\":0},\"y\":{\"value\":1}},\"id\":\"1109\",\"type\":\"Wedge\"},{\"attributes\":{\"data_source\":{\"id\":\"1107\"},\"glyph\":{\"id\":\"1109\"},\"hover_glyph\":null,\"muted_glyph\":null,\"nonselection_glyph\":{\"id\":\"1110\"},\"selection_glyph\":null,\"view\":{\"id\":\"1112\"}},\"id\":\"1111\",\"type\":\"GlyphRenderer\"},{\"attributes\":{\"text\":\"August 2021 Expenses\",\"text_color\":{\"value\":\"#E0E0E0\"},\"text_font\":\"Helvetica\",\"text_font_size\":{\"value\":\"1.15em\"}},\"id\":\"1084\",\"type\":\"Title\"},{\"attributes\":{},\"id\":\"1117\",\"type\":\"BasicTickFormatter\"},{\"attributes\":{\"callback\":null,\"tooltips\":\"@country: @value\"},\"id\":\"1102\",\"type\":\"HoverTool\"},{\"attributes\":{\"active_drag\":\"auto\",\"active_inspect\":\"auto\",\"active_multi\":null,\"active_scroll\":\"auto\",\"active_tap\":\"auto\",\"tools\":[{\"id\":\"1102\"}]},\"id\":\"1103\",\"type\":\"Toolbar\"},{\"attributes\":{},\"id\":\"1115\",\"type\":\"BasicTickFormatter\"},{\"attributes\":{\"field\":\"angle\"},\"id\":\"1106\",\"type\":\"CumSum\"},{\"attributes\":{},\"id\":\"1118\",\"type\":\"Selection\"},{\"attributes\":{\"axis\":{\"id\":\"1094\"},\"grid_line_alpha\":0.25,\"grid_line_color\":null,\"ticker\":null},\"id\":\"1097\",\"type\":\"Grid\"},{\"attributes\":{},\"id\":\"1119\",\"type\":\"UnionRenderers\"},{\"attributes\":{},\"id\":\"1099\",\"type\":\"BasicTicker\"},{\"attributes\":{\"data\":{\"angle\":{\"__ndarray__\":\"5QLhJeXf1j/FM+33CVn3P7weplk/ffU/1z64GjpE2z+ICwgS/E3BP8RzlW/wtQJAnkNZb96XzD8=\",\"dtype\":\"float64\",\"order\":\"little\",\"shape\":[7]},\"color\":[\"#3182bd\",\"#6baed6\",\"#9ecae1\",\"#c6dbef\",\"#e6550d\",\"#fd8d3c\",\"#fdae6b\"],\"country\":[\"Atm\",\"Clothes\",\"Fitness\",\"Food\",\"Subscription\",\"Transportation\",\"Zelle\"],\"index\":[0,1,2,3,4,5,6],\"value\":{\"__ndarray__\":\"AAAAAAAAREBSuB6F62lkQFK4HoXryWJA16NwPQrXR0DD9Shcj0IuQAAAAAAAXHBAAAAAAAAAOUA=\",\"dtype\":\"float64\",\"order\":\"little\",\"shape\":[7]}},\"selected\":{\"id\":\"1118\"},\"selection_policy\":{\"id\":\"1119\"}},\"id\":\"1107\",\"type\":\"ColumnDataSource\"},{\"attributes\":{\"field\":\"angle\",\"include_zero\":true},\"id\":\"1105\",\"type\":\"CumSum\"},{\"attributes\":{},\"id\":\"1092\",\"type\":\"LinearScale\"},{\"attributes\":{\"label\":{\"field\":\"country\"},\"renderers\":[{\"id\":\"1111\"}]},\"id\":\"1121\",\"type\":\"LegendItem\"},{\"attributes\":{},\"id\":\"1088\",\"type\":\"DataRange1d\"},{\"attributes\":{\"axis_label\":null,\"axis_label_standoff\":10,\"axis_label_text_color\":\"#E0E0E0\",\"axis_label_text_font\":\"Helvetica\",\"axis_label_text_font_size\":\"1.25em\",\"axis_label_text_font_style\":\"normal\",\"axis_line_alpha\":0,\"axis_line_color\":\"#E0E0E0\",\"formatter\":{\"id\":\"1117\"},\"major_label_text_color\":\"#E0E0E0\",\"major_label_text_font\":\"Helvetica\",\"major_label_text_font_size\":\"1.025em\",\"major_tick_line_alpha\":0,\"major_tick_line_color\":\"#E0E0E0\",\"minor_tick_line_alpha\":0,\"minor_tick_line_color\":\"#E0E0E0\",\"ticker\":{\"id\":\"1095\"},\"visible\":false},\"id\":\"1094\",\"type\":\"LinearAxis\"},{\"attributes\":{\"background_fill_alpha\":0.25,\"background_fill_color\":\"#20262B\",\"border_line_alpha\":0,\"glyph_width\":15,\"items\":[{\"id\":\"1121\"}],\"label_standoff\":8,\"label_text_color\":\"#E0E0E0\",\"label_text_font\":\"Helvetica\",\"label_text_font_size\":\"1.025em\",\"spacing\":8},\"id\":\"1120\",\"type\":\"Legend\"},{\"attributes\":{},\"id\":\"1095\",\"type\":\"BasicTicker\"},{\"attributes\":{\"source\":{\"id\":\"1107\"}},\"id\":\"1112\",\"type\":\"CDSView\"},{\"attributes\":{},\"id\":\"1090\",\"type\":\"LinearScale\"},{\"attributes\":{\"axis\":{\"id\":\"1098\"},\"dimension\":1,\"grid_line_alpha\":0.25,\"grid_line_color\":null,\"ticker\":null},\"id\":\"1101\",\"type\":\"Grid\"},{\"attributes\":{\"end_angle\":{\"expr\":{\"id\":\"1106\"},\"units\":\"rad\"},\"fill_alpha\":{\"value\":0.1},\"fill_color\":{\"field\":\"color\"},\"line_alpha\":{\"value\":0.1},\"line_color\":{\"value\":\"white\"},\"radius\":{\"units\":\"data\",\"value\":0.4},\"start_angle\":{\"expr\":{\"id\":\"1105\"},\"units\":\"rad\"},\"x\":{\"value\":0},\"y\":{\"value\":1}},\"id\":\"1110\",\"type\":\"Wedge\"},{\"attributes\":{\"start\":-0.5},\"id\":\"1086\",\"type\":\"Range1d\"},{\"attributes\":{\"axis_label\":null,\"axis_label_standoff\":10,\"axis_label_text_color\":\"#E0E0E0\",\"axis_label_text_font\":\"Helvetica\",\"axis_label_text_font_size\":\"1.25em\",\"axis_label_text_font_style\":\"normal\",\"axis_line_alpha\":0,\"axis_line_color\":\"#E0E0E0\",\"formatter\":{\"id\":\"1115\"},\"major_label_text_color\":\"#E0E0E0\",\"major_label_text_font\":\"Helvetica\",\"major_label_text_font_size\":\"1.025em\",\"major_tick_line_alpha\":0,\"major_tick_line_color\":\"#E0E0E0\",\"minor_tick_line_alpha\":0,\"minor_tick_line_color\":\"#E0E0E0\",\"ticker\":{\"id\":\"1099\"},\"visible\":false},\"id\":\"1098\",\"type\":\"LinearAxis\"}],\"root_ids\":[\"1083\"]},\"title\":\"Bokeh Application\",\"version\":\"2.2.3\"}};\n",
       "  var render_items = [{\"docid\":\"872f7bf2-4f44-4574-9b0d-8e970174fbb7\",\"root_ids\":[\"1083\"],\"roots\":{\"1083\":\"fdb9bd63-fafa-45e9-8176-b312e50b05e7\"}}];\n",
       "  root.Bokeh.embed.embed_items_notebook(docs_json, render_items);\n",
       "\n",
       "  }\n",
       "  if (root.Bokeh !== undefined) {\n",
       "    embed_document(root);\n",
       "  } else {\n",
       "    var attempts = 0;\n",
       "    var timer = setInterval(function(root) {\n",
       "      if (root.Bokeh !== undefined) {\n",
       "        clearInterval(timer);\n",
       "        embed_document(root);\n",
       "      } else {\n",
       "        attempts++;\n",
       "        if (attempts > 100) {\n",
       "          clearInterval(timer);\n",
       "          console.log(\"Bokeh: ERROR: Unable to run BokehJS code because BokehJS library is missing\");\n",
       "        }\n",
       "      }\n",
       "    }, 10, root)\n",
       "  }\n",
       "})(window);"
      ],
      "application/vnd.bokehjs_exec.v0+json": ""
     },
     "metadata": {
      "application/vnd.bokehjs_exec.v0+json": {
       "id": "1083"
      }
     },
     "output_type": "display_data"
    }
   ],
   "source": [
    "monthly_expenses()"
   ]
  },
  {
   "cell_type": "code",
   "execution_count": 6,
   "metadata": {},
   "outputs": [
    {
     "data": {
      "text/html": [
       "\n",
       "\n",
       "\n",
       "\n",
       "\n",
       "\n",
       "  <div class=\"bk-root\" id=\"083f1cb8-7b81-4884-9b81-da5da5cb6ad0\" data-root-id=\"1172\"></div>\n"
      ]
     },
     "metadata": {},
     "output_type": "display_data"
    },
    {
     "data": {
      "application/javascript": [
       "(function(root) {\n",
       "  function embed_document(root) {\n",
       "    \n",
       "  var docs_json = {\"4a8259ff-3316-4711-9c76-270c3e46c4a9\":{\"roots\":{\"references\":[{\"attributes\":{\"background_fill_color\":\"#20262B\",\"below\":[{\"id\":\"1183\"}],\"border_fill_color\":\"#15191C\",\"center\":[{\"id\":\"1185\"},{\"id\":\"1189\"}],\"left\":[{\"id\":\"1186\"}],\"outline_line_alpha\":0.25,\"outline_line_color\":\"#E0E0E0\",\"plot_height\":400,\"renderers\":[{\"id\":\"1194\"}],\"title\":{\"id\":\"1173\"},\"toolbar\":{\"id\":\"1190\"},\"toolbar_location\":null,\"x_range\":{\"id\":\"1175\"},\"x_scale\":{\"id\":\"1179\"},\"y_range\":{\"id\":\"1177\"},\"y_scale\":{\"id\":\"1181\"}},\"id\":\"1172\",\"subtype\":\"Figure\",\"type\":\"Plot\"},{\"attributes\":{},\"id\":\"1181\",\"type\":\"LinearScale\"},{\"attributes\":{\"axis\":{\"id\":\"1183\"},\"grid_line_alpha\":0.25,\"grid_line_color\":null,\"ticker\":null},\"id\":\"1185\",\"type\":\"Grid\"},{\"attributes\":{\"axis_label_standoff\":10,\"axis_label_text_color\":\"#E0E0E0\",\"axis_label_text_font\":\"Helvetica\",\"axis_label_text_font_size\":\"1.25em\",\"axis_label_text_font_style\":\"normal\",\"axis_line_alpha\":0,\"axis_line_color\":\"#E0E0E0\",\"formatter\":{\"id\":\"1214\"},\"group_label_orientation\":0.8,\"major_label_orientation\":1.0471975511965976,\"major_label_text_color\":\"#E0E0E0\",\"major_label_text_font\":\"Helvetica\",\"major_label_text_font_size\":\"1.025em\",\"major_tick_line_alpha\":0,\"major_tick_line_color\":\"#E0E0E0\",\"minor_tick_line_alpha\":0,\"minor_tick_line_color\":\"#E0E0E0\",\"subgroup_label_orientation\":\"normal\",\"ticker\":{\"id\":\"1184\"}},\"id\":\"1183\",\"type\":\"CategoricalAxis\"},{\"attributes\":{\"axis\":{\"id\":\"1186\"},\"dimension\":1,\"grid_line_alpha\":0.25,\"grid_line_color\":\"#E0E0E0\",\"ticker\":null},\"id\":\"1189\",\"type\":\"Grid\"},{\"attributes\":{},\"id\":\"1187\",\"type\":\"BasicTicker\"},{\"attributes\":{\"fill_alpha\":{\"value\":0.1},\"fill_color\":{\"value\":\"#1f77b4\"},\"line_alpha\":{\"value\":0.1},\"line_color\":{\"value\":\"#1f77b4\"},\"top\":{\"field\":\"top\"},\"width\":{\"value\":0.9},\"x\":{\"field\":\"x\"}},\"id\":\"1193\",\"type\":\"VBar\"},{\"attributes\":{},\"id\":\"1184\",\"type\":\"CategoricalTicker\"},{\"attributes\":{},\"id\":\"1212\",\"type\":\"BasicTickFormatter\"},{\"attributes\":{\"active_drag\":\"auto\",\"active_inspect\":\"auto\",\"active_multi\":null,\"active_scroll\":\"auto\",\"active_tap\":\"auto\"},\"id\":\"1190\",\"type\":\"Toolbar\"},{\"attributes\":{\"data\":{\"top\":[212.87,45.5,5.5,60.0,5.5,19.25,68.25,14.14,5.5,5.5,8.25,11.99,66.66,5.5,5.5,36.269999999999996,127.0],\"x\":[\"2021-08-02\",\"2021-08-03\",\"2021-08-04\",\"2021-08-05\",\"2021-08-06\",\"2021-08-09\",\"2021-08-10\",\"2021-08-11\",\"2021-08-12\",\"2021-08-17\",\"2021-08-18\",\"2021-08-20\",\"2021-08-23\",\"2021-08-24\",\"2021-08-25\",\"2021-08-26\",\"2021-08-27\"]},\"selected\":{\"id\":\"1215\"},\"selection_policy\":{\"id\":\"1216\"}},\"id\":\"1191\",\"type\":\"ColumnDataSource\"},{\"attributes\":{},\"id\":\"1179\",\"type\":\"CategoricalScale\"},{\"attributes\":{\"axis_label_standoff\":10,\"axis_label_text_color\":\"#E0E0E0\",\"axis_label_text_font\":\"Helvetica\",\"axis_label_text_font_size\":\"1.25em\",\"axis_label_text_font_style\":\"normal\",\"axis_line_alpha\":0,\"axis_line_color\":\"#E0E0E0\",\"formatter\":{\"id\":\"1212\"},\"major_label_text_color\":\"#E0E0E0\",\"major_label_text_font\":\"Helvetica\",\"major_label_text_font_size\":\"1.025em\",\"major_tick_line_alpha\":0,\"major_tick_line_color\":\"#E0E0E0\",\"minor_tick_line_alpha\":0,\"minor_tick_line_color\":\"#E0E0E0\",\"ticker\":{\"id\":\"1187\"}},\"id\":\"1186\",\"type\":\"LinearAxis\"},{\"attributes\":{},\"id\":\"1214\",\"type\":\"CategoricalTickFormatter\"},{\"attributes\":{\"fill_color\":{\"value\":\"#1f77b4\"},\"line_color\":{\"value\":\"#1f77b4\"},\"top\":{\"field\":\"top\"},\"width\":{\"value\":0.9},\"x\":{\"field\":\"x\"}},\"id\":\"1192\",\"type\":\"VBar\"},{\"attributes\":{\"data_source\":{\"id\":\"1191\"},\"glyph\":{\"id\":\"1192\"},\"hover_glyph\":null,\"muted_glyph\":null,\"nonselection_glyph\":{\"id\":\"1193\"},\"selection_glyph\":null,\"view\":{\"id\":\"1195\"}},\"id\":\"1194\",\"type\":\"GlyphRenderer\"},{\"attributes\":{\"start\":0},\"id\":\"1177\",\"type\":\"DataRange1d\"},{\"attributes\":{\"source\":{\"id\":\"1191\"}},\"id\":\"1195\",\"type\":\"CDSView\"},{\"attributes\":{},\"id\":\"1215\",\"type\":\"Selection\"},{\"attributes\":{},\"id\":\"1216\",\"type\":\"UnionRenderers\"},{\"attributes\":{\"factors\":[\"2021-08-02\",\"2021-08-03\",\"2021-08-04\",\"2021-08-05\",\"2021-08-06\",\"2021-08-09\",\"2021-08-10\",\"2021-08-11\",\"2021-08-12\",\"2021-08-17\",\"2021-08-18\",\"2021-08-20\",\"2021-08-23\",\"2021-08-24\",\"2021-08-25\",\"2021-08-26\",\"2021-08-27\"]},\"id\":\"1175\",\"type\":\"FactorRange\"},{\"attributes\":{\"text\":\"August Daily Expenses\",\"text_color\":{\"value\":\"#E0E0E0\"},\"text_font\":\"Helvetica\",\"text_font_size\":{\"value\":\"1.15em\"}},\"id\":\"1173\",\"type\":\"Title\"}],\"root_ids\":[\"1172\"]},\"title\":\"Bokeh Application\",\"version\":\"2.2.3\"}};\n",
       "  var render_items = [{\"docid\":\"4a8259ff-3316-4711-9c76-270c3e46c4a9\",\"root_ids\":[\"1172\"],\"roots\":{\"1172\":\"083f1cb8-7b81-4884-9b81-da5da5cb6ad0\"}}];\n",
       "  root.Bokeh.embed.embed_items_notebook(docs_json, render_items);\n",
       "\n",
       "  }\n",
       "  if (root.Bokeh !== undefined) {\n",
       "    embed_document(root);\n",
       "  } else {\n",
       "    var attempts = 0;\n",
       "    var timer = setInterval(function(root) {\n",
       "      if (root.Bokeh !== undefined) {\n",
       "        clearInterval(timer);\n",
       "        embed_document(root);\n",
       "      } else {\n",
       "        attempts++;\n",
       "        if (attempts > 100) {\n",
       "          clearInterval(timer);\n",
       "          console.log(\"Bokeh: ERROR: Unable to run BokehJS code because BokehJS library is missing\");\n",
       "        }\n",
       "      }\n",
       "    }, 10, root)\n",
       "  }\n",
       "})(window);"
      ],
      "application/vnd.bokehjs_exec.v0+json": ""
     },
     "metadata": {
      "application/vnd.bokehjs_exec.v0+json": {
       "id": "1172"
      }
     },
     "output_type": "display_data"
    }
   ],
   "source": [
    "daily_expenses()"
   ]
  },
  {
   "cell_type": "code",
   "execution_count": 7,
   "metadata": {},
   "outputs": [
    {
     "data": {
      "text/html": [
       "\n",
       "\n",
       "\n",
       "\n",
       "\n",
       "\n",
       "  <div class=\"bk-root\" id=\"567c14bf-73bc-4ec7-8e9d-1ae4d351f7f8\" data-root-id=\"1253\"></div>\n"
      ]
     },
     "metadata": {},
     "output_type": "display_data"
    },
    {
     "data": {
      "application/javascript": [
       "(function(root) {\n",
       "  function embed_document(root) {\n",
       "    \n",
       "  var docs_json = {\"c02509ce-36b8-4fc8-92c7-464f1e763c37\":{\"roots\":{\"references\":[{\"attributes\":{\"background_fill_color\":\"#20262B\",\"below\":[{\"id\":\"1264\"}],\"border_fill_color\":\"#15191C\",\"center\":[{\"id\":\"1267\"},{\"id\":\"1271\"},{\"id\":\"1289\"}],\"left\":[{\"id\":\"1268\"}],\"outline_line_alpha\":0.25,\"outline_line_color\":\"#E0E0E0\",\"plot_height\":350,\"renderers\":[{\"id\":\"1280\"}],\"title\":{\"id\":\"1254\"},\"toolbar\":{\"id\":\"1273\"},\"toolbar_location\":null,\"x_range\":{\"id\":\"1256\"},\"x_scale\":{\"id\":\"1260\"},\"y_range\":{\"id\":\"1258\"},\"y_scale\":{\"id\":\"1262\"}},\"id\":\"1253\",\"subtype\":\"Figure\",\"type\":\"Plot\"},{\"attributes\":{},\"id\":\"1286\",\"type\":\"BasicTickFormatter\"},{\"attributes\":{},\"id\":\"1258\",\"type\":\"DataRange1d\"},{\"attributes\":{\"data\":{\"Amount\":{\"__ndarray__\":\"AAAAAAAKoUA9CtejcPmFQAAAAAAAFJdA\",\"dtype\":\"float64\",\"order\":\"little\",\"shape\":[3]},\"Type\":[\"Credit\",\"Debit\",\"Savings\"],\"angle\":{\"__ndarray__\":\"XXVaBTEjCUBCk6gCkDXwPzGb2aH9BQFA\",\"dtype\":\"float64\",\"order\":\"little\",\"shape\":[3]},\"color\":[\"#1f77b4\",\"#aec7e8\",\"#ff7f0e\"],\"index\":[0,1,2]},\"selected\":{\"id\":\"1287\"},\"selection_policy\":{\"id\":\"1288\"}},\"id\":\"1252\",\"type\":\"ColumnDataSource\"},{\"attributes\":{\"end_angle\":{\"expr\":{\"id\":\"1276\"},\"units\":\"rad\"},\"fill_color\":{\"field\":\"color\"},\"inner_radius\":{\"units\":\"data\",\"value\":0.15},\"line_color\":{\"value\":\"white\"},\"outer_radius\":{\"units\":\"data\",\"value\":0.25},\"start_angle\":{\"expr\":{\"id\":\"1275\"},\"units\":\"rad\"},\"x\":{\"value\":0},\"y\":{\"value\":1}},\"id\":\"1278\",\"type\":\"AnnularWedge\"},{\"attributes\":{\"field\":\"angle\",\"include_zero\":true},\"id\":\"1275\",\"type\":\"CumSum\"},{\"attributes\":{\"text\":\"Total Credits, Debits and Savings\",\"text_color\":{\"value\":\"#E0E0E0\"},\"text_font\":\"Helvetica\",\"text_font_size\":{\"value\":\"1.15em\"}},\"id\":\"1254\",\"type\":\"Title\"},{\"attributes\":{\"end_angle\":{\"expr\":{\"id\":\"1276\"},\"units\":\"rad\"},\"fill_alpha\":{\"value\":0.1},\"fill_color\":{\"field\":\"color\"},\"inner_radius\":{\"units\":\"data\",\"value\":0.15},\"line_alpha\":{\"value\":0.1},\"line_color\":{\"value\":\"white\"},\"outer_radius\":{\"units\":\"data\",\"value\":0.25},\"start_angle\":{\"expr\":{\"id\":\"1275\"},\"units\":\"rad\"},\"x\":{\"value\":0},\"y\":{\"value\":1}},\"id\":\"1279\",\"type\":\"AnnularWedge\"},{\"attributes\":{\"source\":{\"id\":\"1252\"}},\"id\":\"1281\",\"type\":\"CDSView\"},{\"attributes\":{},\"id\":\"1265\",\"type\":\"BasicTicker\"},{\"attributes\":{},\"id\":\"1287\",\"type\":\"Selection\"},{\"attributes\":{\"background_fill_alpha\":0.25,\"background_fill_color\":\"#20262B\",\"border_line_alpha\":0,\"glyph_width\":15,\"items\":[{\"id\":\"1290\"}],\"label_standoff\":8,\"label_text_color\":\"#E0E0E0\",\"label_text_font\":\"Helvetica\",\"label_text_font_size\":\"1.025em\",\"spacing\":8},\"id\":\"1289\",\"type\":\"Legend\"},{\"attributes\":{},\"id\":\"1269\",\"type\":\"BasicTicker\"},{\"attributes\":{\"data_source\":{\"id\":\"1252\"},\"glyph\":{\"id\":\"1278\"},\"hover_glyph\":null,\"muted_glyph\":null,\"nonselection_glyph\":{\"id\":\"1279\"},\"selection_glyph\":null,\"view\":{\"id\":\"1281\"}},\"id\":\"1280\",\"type\":\"GlyphRenderer\"},{\"attributes\":{},\"id\":\"1288\",\"type\":\"UnionRenderers\"},{\"attributes\":{\"axis_label\":null,\"axis_label_standoff\":10,\"axis_label_text_color\":\"#E0E0E0\",\"axis_label_text_font\":\"Helvetica\",\"axis_label_text_font_size\":\"1.25em\",\"axis_label_text_font_style\":\"normal\",\"axis_line_alpha\":0,\"axis_line_color\":\"#E0E0E0\",\"formatter\":{\"id\":\"1286\"},\"major_label_text_color\":\"#E0E0E0\",\"major_label_text_font\":\"Helvetica\",\"major_label_text_font_size\":\"1.025em\",\"major_tick_line_alpha\":0,\"major_tick_line_color\":\"#E0E0E0\",\"minor_tick_line_alpha\":0,\"minor_tick_line_color\":\"#E0E0E0\",\"ticker\":{\"id\":\"1265\"},\"visible\":false},\"id\":\"1264\",\"type\":\"LinearAxis\"},{\"attributes\":{\"active_drag\":\"auto\",\"active_inspect\":\"auto\",\"active_multi\":null,\"active_scroll\":\"auto\",\"active_tap\":\"auto\",\"tools\":[{\"id\":\"1272\"}]},\"id\":\"1273\",\"type\":\"Toolbar\"},{\"attributes\":{\"axis\":{\"id\":\"1268\"},\"dimension\":1,\"grid_line_alpha\":0.25,\"grid_line_color\":null,\"ticker\":null},\"id\":\"1271\",\"type\":\"Grid\"},{\"attributes\":{\"axis_label\":null,\"axis_label_standoff\":10,\"axis_label_text_color\":\"#E0E0E0\",\"axis_label_text_font\":\"Helvetica\",\"axis_label_text_font_size\":\"1.25em\",\"axis_label_text_font_style\":\"normal\",\"axis_line_alpha\":0,\"axis_line_color\":\"#E0E0E0\",\"formatter\":{\"id\":\"1284\"},\"major_label_text_color\":\"#E0E0E0\",\"major_label_text_font\":\"Helvetica\",\"major_label_text_font_size\":\"1.025em\",\"major_tick_line_alpha\":0,\"major_tick_line_color\":\"#E0E0E0\",\"minor_tick_line_alpha\":0,\"minor_tick_line_color\":\"#E0E0E0\",\"ticker\":{\"id\":\"1269\"},\"visible\":false},\"id\":\"1268\",\"type\":\"LinearAxis\"},{\"attributes\":{},\"id\":\"1260\",\"type\":\"LinearScale\"},{\"attributes\":{},\"id\":\"1262\",\"type\":\"LinearScale\"},{\"attributes\":{\"axis\":{\"id\":\"1264\"},\"grid_line_alpha\":0.25,\"grid_line_color\":null,\"ticker\":null},\"id\":\"1267\",\"type\":\"Grid\"},{\"attributes\":{\"label\":{\"field\":\"Type\"},\"renderers\":[{\"id\":\"1280\"}]},\"id\":\"1290\",\"type\":\"LegendItem\"},{\"attributes\":{\"callback\":null,\"tooltips\":\"@Type: @Amount{0.2f} \"},\"id\":\"1272\",\"type\":\"HoverTool\"},{\"attributes\":{\"field\":\"angle\"},\"id\":\"1276\",\"type\":\"CumSum\"},{\"attributes\":{},\"id\":\"1284\",\"type\":\"BasicTickFormatter\"},{\"attributes\":{\"end\":0.5,\"start\":-0.5},\"id\":\"1256\",\"type\":\"Range1d\"}],\"root_ids\":[\"1253\"]},\"title\":\"Bokeh Application\",\"version\":\"2.2.3\"}};\n",
       "  var render_items = [{\"docid\":\"c02509ce-36b8-4fc8-92c7-464f1e763c37\",\"root_ids\":[\"1253\"],\"roots\":{\"1253\":\"567c14bf-73bc-4ec7-8e9d-1ae4d351f7f8\"}}];\n",
       "  root.Bokeh.embed.embed_items_notebook(docs_json, render_items);\n",
       "\n",
       "  }\n",
       "  if (root.Bokeh !== undefined) {\n",
       "    embed_document(root);\n",
       "  } else {\n",
       "    var attempts = 0;\n",
       "    var timer = setInterval(function(root) {\n",
       "      if (root.Bokeh !== undefined) {\n",
       "        clearInterval(timer);\n",
       "        embed_document(root);\n",
       "      } else {\n",
       "        attempts++;\n",
       "        if (attempts > 100) {\n",
       "          clearInterval(timer);\n",
       "          console.log(\"Bokeh: ERROR: Unable to run BokehJS code because BokehJS library is missing\");\n",
       "        }\n",
       "      }\n",
       "    }, 10, root)\n",
       "  }\n",
       "})(window);"
      ],
      "application/vnd.bokehjs_exec.v0+json": ""
     },
     "metadata": {
      "application/vnd.bokehjs_exec.v0+json": {
       "id": "1253"
      }
     },
     "output_type": "display_data"
    }
   ],
   "source": [
    "totals_chart()"
   ]
  },
  {
   "cell_type": "code",
   "execution_count": 8,
   "metadata": {},
   "outputs": [
    {
     "data": {
      "text/html": [
       "\n",
       "\n",
       "\n",
       "\n",
       "\n",
       "\n",
       "  <div class=\"bk-root\" id=\"8097c944-5e3e-4591-9d4d-e283f52cadef\" data-root-id=\"1354\"></div>\n"
      ]
     },
     "metadata": {},
     "output_type": "display_data"
    },
    {
     "data": {
      "application/javascript": [
       "(function(root) {\n",
       "  function embed_document(root) {\n",
       "    \n",
       "  var docs_json = {\"6bb4e72c-d86d-4fd7-8f87-8d054674bdce\":{\"roots\":{\"references\":[{\"attributes\":{\"background_fill_color\":\"#20262B\",\"below\":[{\"id\":\"1363\"}],\"border_fill_color\":\"#15191C\",\"center\":[{\"id\":\"1366\"},{\"id\":\"1370\"},{\"id\":\"1412\"}],\"left\":[{\"id\":\"1367\"}],\"outline_line_alpha\":0.25,\"outline_line_color\":\"#E0E0E0\",\"plot_height\":250,\"plot_width\":800,\"renderers\":[{\"id\":\"1389\"},{\"id\":\"1417\"}],\"title\":{\"id\":\"1385\"},\"toolbar\":{\"id\":\"1378\"},\"x_range\":{\"id\":\"1355\"},\"x_scale\":{\"id\":\"1359\"},\"y_range\":{\"id\":\"1357\"},\"y_scale\":{\"id\":\"1361\"}},\"id\":\"1354\",\"subtype\":\"Figure\",\"type\":\"Plot\"},{\"attributes\":{},\"id\":\"1428\",\"type\":\"Selection\"},{\"attributes\":{\"source\":{\"id\":\"1386\"}},\"id\":\"1390\",\"type\":\"CDSView\"},{\"attributes\":{},\"id\":\"1355\",\"type\":\"DataRange1d\"},{\"attributes\":{},\"id\":\"1398\",\"type\":\"Selection\"},{\"attributes\":{},\"id\":\"1429\",\"type\":\"UnionRenderers\"},{\"attributes\":{},\"id\":\"1357\",\"type\":\"DataRange1d\"},{\"attributes\":{},\"id\":\"1359\",\"type\":\"LinearScale\"},{\"attributes\":{},\"id\":\"1399\",\"type\":\"UnionRenderers\"},{\"attributes\":{\"axis\":{\"id\":\"1363\"},\"grid_line_alpha\":0.25,\"grid_line_color\":\"#E0E0E0\",\"ticker\":null},\"id\":\"1366\",\"type\":\"Grid\"},{\"attributes\":{},\"id\":\"1376\",\"type\":\"HelpTool\"},{\"attributes\":{\"axis_label_standoff\":10,\"axis_label_text_color\":\"#E0E0E0\",\"axis_label_text_font\":\"Helvetica\",\"axis_label_text_font_size\":\"1.25em\",\"axis_label_text_font_style\":\"normal\",\"axis_line_alpha\":0,\"axis_line_color\":\"#E0E0E0\",\"formatter\":{\"id\":\"1394\"},\"major_label_text_color\":\"#E0E0E0\",\"major_label_text_font\":\"Helvetica\",\"major_label_text_font_size\":\"1.025em\",\"major_tick_line_alpha\":0,\"major_tick_line_color\":\"#E0E0E0\",\"minor_tick_line_alpha\":0,\"minor_tick_line_color\":\"#E0E0E0\",\"ticker\":{\"id\":\"1368\"}},\"id\":\"1367\",\"type\":\"LinearAxis\"},{\"attributes\":{\"axis\":{\"id\":\"1367\"},\"dimension\":1,\"grid_line_alpha\":0.25,\"grid_line_color\":\"#E0E0E0\",\"ticker\":null},\"id\":\"1370\",\"type\":\"Grid\"},{\"attributes\":{},\"id\":\"1368\",\"type\":\"BasicTicker\"},{\"attributes\":{\"line_alpha\":0.8,\"line_color\":\"#aec7e8\",\"line_width\":2,\"x\":{\"field\":\"x\"},\"y\":{\"field\":\"y\"}},\"id\":\"1387\",\"type\":\"Line\"},{\"attributes\":{\"active_drag\":\"auto\",\"active_inspect\":\"auto\",\"active_multi\":null,\"active_scroll\":\"auto\",\"active_tap\":\"auto\",\"tools\":[{\"id\":\"1371\"},{\"id\":\"1372\"},{\"id\":\"1373\"},{\"id\":\"1374\"},{\"id\":\"1375\"},{\"id\":\"1376\"}]},\"id\":\"1378\",\"type\":\"Toolbar\"},{\"attributes\":{},\"id\":\"1372\",\"type\":\"WheelZoomTool\"},{\"attributes\":{\"mantissas\":[1,2,5],\"max_interval\":500.0,\"num_minor_ticks\":0},\"id\":\"1400\",\"type\":\"AdaptiveTicker\"},{\"attributes\":{},\"id\":\"1371\",\"type\":\"PanTool\"},{\"attributes\":{\"base\":60,\"mantissas\":[1,2,5,10,15,20,30],\"max_interval\":1800000.0,\"min_interval\":1000.0,\"num_minor_ticks\":0},\"id\":\"1401\",\"type\":\"AdaptiveTicker\"},{\"attributes\":{\"overlay\":{\"id\":\"1377\"}},\"id\":\"1373\",\"type\":\"BoxZoomTool\"},{\"attributes\":{},\"id\":\"1374\",\"type\":\"SaveTool\"},{\"attributes\":{\"days\":[1,2,3,4,5,6,7,8,9,10,11,12,13,14,15,16,17,18,19,20,21,22,23,24,25,26,27,28,29,30,31]},\"id\":\"1403\",\"type\":\"DaysTicker\"},{\"attributes\":{},\"id\":\"1375\",\"type\":\"ResetTool\"},{\"attributes\":{\"base\":24,\"mantissas\":[1,2,4,6,8,12],\"max_interval\":43200000.0,\"min_interval\":3600000.0,\"num_minor_ticks\":0},\"id\":\"1402\",\"type\":\"AdaptiveTicker\"},{\"attributes\":{},\"id\":\"1394\",\"type\":\"BasicTickFormatter\"},{\"attributes\":{\"months\":[0,1,2,3,4,5,6,7,8,9,10,11]},\"id\":\"1407\",\"type\":\"MonthsTicker\"},{\"attributes\":{\"months\":[0,2,4,6,8,10]},\"id\":\"1408\",\"type\":\"MonthsTicker\"},{\"attributes\":{\"data_source\":{\"id\":\"1386\"},\"glyph\":{\"id\":\"1387\"},\"hover_glyph\":null,\"muted_glyph\":null,\"nonselection_glyph\":{\"id\":\"1388\"},\"selection_glyph\":null,\"view\":{\"id\":\"1390\"}},\"id\":\"1389\",\"type\":\"GlyphRenderer\"},{\"attributes\":{\"days\":[1,4,7,10,13,16,19,22,25,28]},\"id\":\"1404\",\"type\":\"DaysTicker\"},{\"attributes\":{\"data\":{\"x\":{\"__ndarray__\":\"AADAj0Kwd0IAAID1lLB3QgAAQFvnsHdCAAAAwTmxd0IAAMAmjLF3QgAAAFiDsndCAADAvdWyd0IAAIAjKLN3QgAAQIl6s3dCAAAAhha1d0IAAMDraLV3QgAAQLcNtndCAACA6AS3d0IAAEBOV7d3QgAAALSpt3dCAADAGfy3d0IAAIB/Trh3Qg==\",\"dtype\":\"float64\",\"order\":\"little\",\"shape\":[17]},\"y\":{\"__ndarray__\":\"pHA9CtebakBSuB6F6yVwQFK4HoXrfXBAUrgehes9dEBSuB6F65V0QFK4HoXryXVAUrgehesNekBcj8L1KPB6QFyPwvUoSHtAXI/C9Sige0Bcj8L1KCR8QAAAAAAA5HxA4XoUrkeHgEDhehSuR7OAQOF6FK5H34BAPQrXo3ABgkA9CtejcPmFQA==\",\"dtype\":\"float64\",\"order\":\"little\",\"shape\":[17]}},\"selected\":{\"id\":\"1428\"},\"selection_policy\":{\"id\":\"1429\"}},\"id\":\"1414\",\"type\":\"ColumnDataSource\"},{\"attributes\":{\"days\":[1,15]},\"id\":\"1406\",\"type\":\"DaysTicker\"},{\"attributes\":{\"months\":[0,6]},\"id\":\"1410\",\"type\":\"MonthsTicker\"},{\"attributes\":{\"label\":{\"value\":\"Credit\"},\"renderers\":[{\"id\":\"1389\"}]},\"id\":\"1413\",\"type\":\"LegendItem\"},{\"attributes\":{\"days\":[1,8,15,22]},\"id\":\"1405\",\"type\":\"DaysTicker\"},{\"attributes\":{},\"id\":\"1411\",\"type\":\"YearsTicker\"},{\"attributes\":{\"data\":{\"x\":{\"__ndarray__\":\"AAAAWIOyd0IAAECJerN3QgAAwBn8t3dC\",\"dtype\":\"float64\",\"order\":\"little\",\"shape\":[3]},\"y\":{\"__ndarray__\":\"AAAAAAAAJkDD9Shcj3qNQAAAAAAACqFA\",\"dtype\":\"float64\",\"order\":\"little\",\"shape\":[3]}},\"selected\":{\"id\":\"1398\"},\"selection_policy\":{\"id\":\"1399\"}},\"id\":\"1386\",\"type\":\"ColumnDataSource\"},{\"attributes\":{\"data_source\":{\"id\":\"1414\"},\"glyph\":{\"id\":\"1415\"},\"hover_glyph\":null,\"muted_glyph\":null,\"nonselection_glyph\":{\"id\":\"1416\"},\"selection_glyph\":null,\"view\":{\"id\":\"1418\"}},\"id\":\"1417\",\"type\":\"GlyphRenderer\"},{\"attributes\":{\"months\":[0,4,8]},\"id\":\"1409\",\"type\":\"MonthsTicker\"},{\"attributes\":{\"line_alpha\":0.8,\"line_color\":\"#ff7f0e\",\"line_width\":2,\"x\":{\"field\":\"x\"},\"y\":{\"field\":\"y\"}},\"id\":\"1415\",\"type\":\"Line\"},{\"attributes\":{\"num_minor_ticks\":5,\"tickers\":[{\"id\":\"1400\"},{\"id\":\"1401\"},{\"id\":\"1402\"},{\"id\":\"1403\"},{\"id\":\"1404\"},{\"id\":\"1405\"},{\"id\":\"1406\"},{\"id\":\"1407\"},{\"id\":\"1408\"},{\"id\":\"1409\"},{\"id\":\"1410\"},{\"id\":\"1411\"}]},\"id\":\"1364\",\"type\":\"DatetimeTicker\"},{\"attributes\":{\"line_alpha\":0.1,\"line_color\":\"#ff7f0e\",\"line_width\":2,\"x\":{\"field\":\"x\"},\"y\":{\"field\":\"y\"}},\"id\":\"1416\",\"type\":\"Line\"},{\"attributes\":{\"source\":{\"id\":\"1414\"}},\"id\":\"1418\",\"type\":\"CDSView\"},{\"attributes\":{\"background_fill_alpha\":0.25,\"background_fill_color\":\"#20262B\",\"border_line_alpha\":0,\"click_policy\":\"hide\",\"glyph_width\":15,\"items\":[{\"id\":\"1413\"},{\"id\":\"1442\"}],\"label_standoff\":8,\"label_text_color\":\"#E0E0E0\",\"label_text_font\":\"Helvetica\",\"label_text_font_size\":\"1.025em\",\"location\":\"top_left\",\"spacing\":8},\"id\":\"1412\",\"type\":\"Legend\"},{\"attributes\":{},\"id\":\"1396\",\"type\":\"DatetimeTickFormatter\"},{\"attributes\":{\"bottom_units\":\"screen\",\"fill_alpha\":0.5,\"fill_color\":\"lightgrey\",\"left_units\":\"screen\",\"level\":\"overlay\",\"line_alpha\":1.0,\"line_color\":\"black\",\"line_dash\":[4,4],\"line_width\":2,\"right_units\":\"screen\",\"top_units\":\"screen\"},\"id\":\"1377\",\"type\":\"BoxAnnotation\"},{\"attributes\":{},\"id\":\"1361\",\"type\":\"LinearScale\"},{\"attributes\":{\"line_alpha\":0.1,\"line_color\":\"#aec7e8\",\"line_width\":2,\"x\":{\"field\":\"x\"},\"y\":{\"field\":\"y\"}},\"id\":\"1388\",\"type\":\"Line\"},{\"attributes\":{\"label\":{\"value\":\"Debit\"},\"renderers\":[{\"id\":\"1417\"}]},\"id\":\"1442\",\"type\":\"LegendItem\"},{\"attributes\":{\"axis_label_standoff\":10,\"axis_label_text_color\":\"#E0E0E0\",\"axis_label_text_font\":\"Helvetica\",\"axis_label_text_font_size\":\"1.25em\",\"axis_label_text_font_style\":\"normal\",\"axis_line_alpha\":0,\"axis_line_color\":\"#E0E0E0\",\"formatter\":{\"id\":\"1396\"},\"major_label_text_color\":\"#E0E0E0\",\"major_label_text_font\":\"Helvetica\",\"major_label_text_font_size\":\"1.025em\",\"major_tick_line_alpha\":0,\"major_tick_line_color\":\"#E0E0E0\",\"minor_tick_line_alpha\":0,\"minor_tick_line_color\":\"#E0E0E0\",\"ticker\":{\"id\":\"1364\"}},\"id\":\"1363\",\"type\":\"DatetimeAxis\"},{\"attributes\":{\"text\":\"Monthly Debit and Credit\",\"text_color\":{\"value\":\"#E0E0E0\"},\"text_font\":\"Helvetica\",\"text_font_size\":{\"value\":\"1.15em\"}},\"id\":\"1385\",\"type\":\"Title\"}],\"root_ids\":[\"1354\"]},\"title\":\"Bokeh Application\",\"version\":\"2.2.3\"}};\n",
       "  var render_items = [{\"docid\":\"6bb4e72c-d86d-4fd7-8f87-8d054674bdce\",\"root_ids\":[\"1354\"],\"roots\":{\"1354\":\"8097c944-5e3e-4591-9d4d-e283f52cadef\"}}];\n",
       "  root.Bokeh.embed.embed_items_notebook(docs_json, render_items);\n",
       "\n",
       "  }\n",
       "  if (root.Bokeh !== undefined) {\n",
       "    embed_document(root);\n",
       "  } else {\n",
       "    var attempts = 0;\n",
       "    var timer = setInterval(function(root) {\n",
       "      if (root.Bokeh !== undefined) {\n",
       "        clearInterval(timer);\n",
       "        embed_document(root);\n",
       "      } else {\n",
       "        attempts++;\n",
       "        if (attempts > 100) {\n",
       "          clearInterval(timer);\n",
       "          console.log(\"Bokeh: ERROR: Unable to run BokehJS code because BokehJS library is missing\");\n",
       "        }\n",
       "      }\n",
       "    }, 10, root)\n",
       "  }\n",
       "})(window);"
      ],
      "application/vnd.bokehjs_exec.v0+json": ""
     },
     "metadata": {
      "application/vnd.bokehjs_exec.v0+json": {
       "id": "1354"
      }
     },
     "output_type": "display_data"
    }
   ],
   "source": [
    "accrued_debits_credits()"
   ]
  },
  {
   "cell_type": "code",
   "execution_count": null,
   "metadata": {},
   "outputs": [],
   "source": []
  }
 ],
 "metadata": {
  "kernelspec": {
   "display_name": "Python 3",
   "language": "python",
   "name": "python3"
  },
  "language_info": {
   "codemirror_mode": {
    "name": "ipython",
    "version": 3
   },
   "file_extension": ".py",
   "mimetype": "text/x-python",
   "name": "python",
   "nbconvert_exporter": "python",
   "pygments_lexer": "ipython3",
   "version": "3.8.5"
  }
 },
 "nbformat": 4,
 "nbformat_minor": 4
}
